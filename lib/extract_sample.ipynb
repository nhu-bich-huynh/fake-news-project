{
 "cells": [
  {
   "cell_type": "code",
   "execution_count": 1,
   "metadata": {},
   "outputs": [
    {
     "name": "stderr",
     "output_type": "stream",
     "text": [
      "/var/folders/r7/pckx8d3j3_7fnbs31bc_1_r80000gn/T/ipykernel_23707/2799712819.py:9: DtypeWarning: Columns (0,1) have mixed types. Specify dtype option on import or set low_memory=False.\n",
      "  raw_data = pd.read_csv(src, index_col=0)\n"
     ]
    }
   ],
   "source": [
    "import pandas as pd\n",
    "\n",
    "# helper function to extract sample of large dataset\n",
    "src = '../data/995,000_rows.csv'\n",
    "# src = '../data/training_data_grouped.csv'\n",
    "n = 1000\n",
    "\n",
    "dst = src[0:-4] + '_SAMPLE.csv'\n",
    "raw_data = pd.read_csv(src, index_col=0)\n",
    "sample_data = raw_data.sample(n)\n",
    "sample_data.to_csv(dst)"
   ]
  }
 ],
 "metadata": {
  "kernelspec": {
   "display_name": "fake-news-proj",
   "language": "python",
   "name": "python3"
  },
  "language_info": {
   "codemirror_mode": {
    "name": "ipython",
    "version": 3
   },
   "file_extension": ".py",
   "mimetype": "text/x-python",
   "name": "python",
   "nbconvert_exporter": "python",
   "pygments_lexer": "ipython3",
   "version": "3.12.1"
  }
 },
 "nbformat": 4,
 "nbformat_minor": 2
}
