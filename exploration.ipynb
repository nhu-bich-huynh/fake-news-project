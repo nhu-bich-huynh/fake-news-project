{
 "cells": [
  {
   "cell_type": "markdown",
   "metadata": {},
   "source": [
    "# Exploration of 995k Fake News Corpus"
   ]
  },
  {
   "cell_type": "markdown",
   "metadata": {},
   "source": [
    "## Raw dataset"
   ]
  },
  {
   "cell_type": "code",
   "execution_count": null,
   "metadata": {},
   "outputs": [],
   "source": [
    "import pandas as pd\n",
    "import seaborn as sns\n",
    "\n",
    "# load raw dataset\n",
    "src = 'data/995,000_rows.csv'\n",
    "raw_data = pd.read_csv(src, index_col=0)"
   ]
  },
  {
   "cell_type": "markdown",
   "metadata": {},
   "source": [
    "### Empty cells in dataset"
   ]
  },
  {
   "cell_type": "code",
   "execution_count": null,
   "metadata": {},
   "outputs": [],
   "source": [
    "import seaborn as sns\n",
    "import matplotlib.pyplot as plt\n",
    "\n",
    "# amount of empty cells in dataset\n",
    "sns.heatmap(raw_data.isnull(), cbar=False)\n",
    "plt.title('Empty cells in raw dataset')\n",
    "\n",
    "\n",
    "raw_data.isnull().sum()"
   ]
  },
  {
   "cell_type": "markdown",
   "metadata": {},
   "source": [
    "### Destribution of types"
   ]
  },
  {
   "cell_type": "code",
   "execution_count": null,
   "metadata": {},
   "outputs": [],
   "source": [
    "# percentage destribution of types\n",
    "type_dist = raw_data['type'].value_counts(normalize=True) * 100\n",
    "print(type_dist)"
   ]
  },
  {
   "cell_type": "markdown",
   "metadata": {},
   "source": [
    "### Oberservations of domains"
   ]
  },
  {
   "cell_type": "code",
   "execution_count": null,
   "metadata": {},
   "outputs": [],
   "source": [
    "# Filter the DataFrame for 'reliable' and 'fake' types\n",
    "reliable_domains = set(raw_data[raw_data['type'] == 'reliable']['domain'].unique())\n",
    "fake_domains = set(raw_data[raw_data['type'] == 'fake']['domain'].unique())\n",
    "\n",
    "# Domains in 'reliable' but not in 'fake'\n",
    "reliable_not_fake_domains = reliable_domains - fake_domains\n",
    "\n",
    "# Domains in 'fake' but not in 'reliable'\n",
    "fake_not_reliable_domains = fake_domains - reliable_domains\n",
    "\n",
    "# Find the intersection of unique domains\n",
    "common_domains = fake_domains.intersection(reliable_domains)\n",
    "\n",
    "print(\"Domains in 'reliable' but not in 'fake':\")\n",
    "print(reliable_not_fake_domains)\n",
    "\n",
    "print(\"\\nDomains in 'fake' but not in 'reliable':\")\n",
    "print(fake_not_reliable_domains)\n",
    "\n",
    "print(\"\\nDomains in both 'fake' and 'reliable':\")\n",
    "print(common_domains)"
   ]
  },
  {
   "cell_type": "markdown",
   "metadata": {},
   "source": [
    "### Amount of '!' (exclamations) in fake news vs. reliable news"
   ]
  },
  {
   "cell_type": "markdown",
   "metadata": {},
   "source": [
    "There seems to be a lot more '!'-characters in fake labelled articles"
   ]
  },
  {
   "cell_type": "code",
   "execution_count": null,
   "metadata": {},
   "outputs": [],
   "source": [
    "import matplotlib.pyplot as plt\n",
    "\n",
    "char = '!'\n",
    "\n",
    "# copy dataframe\n",
    "exclm_data = raw_data.copy(deep=True)\n",
    "\n",
    "# get count sum of exclamation points in each article\n",
    "exclm_data['exclm_count'] = exclm_data['content'].str.count(char)\n",
    "\n",
    "# get total sum of exclamation points for each type (labels)\n",
    "fake_exclm_sum = (exclm_data[ (exclm_data['type'] == 'fake')])['exclm_count'].mean()\n",
    "reliable_exclm_sum = (exclm_data[ (exclm_data['type'] == 'reliable')])['exclm_count'].mean()\n",
    "\n",
    "# plot data\n",
    "fig, ax = plt.subplots()\n",
    "\n",
    "ax.set_ylabel('mean')\n",
    "ax.set_title('\\'!\\' characters in fake vs. reliable')\n",
    "\n",
    "ax.bar(['fake', 'reliable'], [fake_exclm_sum, reliable_exclm_sum])\n",
    "\n",
    "plt.show()"
   ]
  },
  {
   "cell_type": "markdown",
   "metadata": {},
   "source": [
    "### Amount of '!' (exclamations) in each type of labels"
   ]
  },
  {
   "cell_type": "markdown",
   "metadata": {},
   "source": [
    "'political' has most exclamations points. Second is 'fake'."
   ]
  },
  {
   "cell_type": "code",
   "execution_count": null,
   "metadata": {},
   "outputs": [],
   "source": [
    "import matplotlib.pyplot as plt\n",
    "\n",
    "char = '!'\n",
    "\n",
    "# copy dataframe\n",
    "exclm_data = raw_data.copy(deep=True)\n",
    "\n",
    "# get count sum of exclamation points in each article\n",
    "exclm_data['exclm_count'] = exclm_data['content'].str.count(char)\n",
    "\n",
    "# get total sum of exclamation points for each type (labels)\n",
    "types = ['reliable',\n",
    "         'political',\n",
    "         'bias',\n",
    "         'fake',\n",
    "         'conspiracy',\n",
    "         'rumor',\n",
    "         'unknown',\n",
    "         'unreliable',\n",
    "         'clickbait',\n",
    "         'junksci',\n",
    "         'satire',\n",
    "         'hate'\n",
    "         ]\n",
    "\n",
    "sums = []\n",
    "for type in types:\n",
    "    sum = (exclm_data[ (exclm_data['type'] == type)])['exclm_count'].mean()\n",
    "    sums.append(sum)\n",
    "\n",
    "# plot data\n",
    "fig, ax = plt.subplots()\n",
    "plt.xticks(rotation='vertical')\n",
    "\n",
    "ax.set_ylabel('mean')\n",
    "ax.set_title('\\'!\\' characters in all article types')\n",
    "\n",
    "ax.bar(types, sums)\n",
    "\n",
    "plt.show()"
   ]
  },
  {
   "cell_type": "markdown",
   "metadata": {},
   "source": [
    "### Amount of unique words in reliable news vs. fake news"
   ]
  },
  {
   "cell_type": "markdown",
   "metadata": {},
   "source": [
    "Exploring the mean of different words for each article type. The results shows that 'reliable' has more unique words then 'fake'."
   ]
  },
  {
   "cell_type": "code",
   "execution_count": null,
   "metadata": {},
   "outputs": [],
   "source": [
    "import matplotlib.pyplot as plt\n",
    "import pandas as pd\n",
    "\n",
    "# Data is loaded from a new file 'word_freq' to minimize the file-size on the cleaned dataset.\n",
    "# The filesize of 'word_freq' is small.\n",
    "\n",
    "src = 'data/word_freq.csv'\n",
    "word_freq = pd.read_csv(src)\n",
    "\n",
    "# get total mean of exclamation points for each type (labels)\n",
    "types = ['reliable',\n",
    "         'political',\n",
    "         'bias',\n",
    "         'fake',\n",
    "         'conspiracy',\n",
    "         'rumor',\n",
    "         'unknown',\n",
    "         'unreliable',\n",
    "         'clickbait',\n",
    "         'junksci',\n",
    "         'satire',\n",
    "         'hate'\n",
    "         ]\n",
    "\n",
    "means = []\n",
    "for type in types:\n",
    "    mean = (word_freq[ (word_freq['type'] == type)])['content_word_freq'].median()\n",
    "    means.append(mean)\n",
    "\n",
    "# plot data\n",
    "fig, ax = plt.subplots()\n",
    "plt.xticks(rotation='vertical')\n",
    "\n",
    "ax.set_ylabel('median')\n",
    "ax.set_title('Unique words in articles by type')\n",
    "\n",
    "ax.bar(types, means)\n",
    "\n",
    "plt.show()\n"
   ]
  },
  {
   "cell_type": "markdown",
   "metadata": {},
   "source": [
    "### Do Fake news have less author names then reliable news? "
   ]
  },
  {
   "cell_type": "markdown",
   "metadata": {},
   "source": [
    "From the barplot, it seems that 'reliable' news have more missing authors, then 'fake' news. So actually the opposite of our hypothesis."
   ]
  },
  {
   "cell_type": "code",
   "execution_count": null,
   "metadata": {},
   "outputs": [],
   "source": [
    "import matplotlib.pyplot as plt\n",
    "import pandas as pd\n",
    "\n",
    "# get total mean of exclamation points for each type (labels)\n",
    "types = ['reliable',\n",
    "         'political',\n",
    "         'bias',\n",
    "         'fake',\n",
    "         'conspiracy',\n",
    "         'rumor',\n",
    "         'unknown',\n",
    "         'unreliable',\n",
    "         'clickbait',\n",
    "         'junksci',\n",
    "         'satire',\n",
    "         'hate'\n",
    "         ]\n",
    "\n",
    "sums = []\n",
    "for type in types:\n",
    "    sum = (raw_data[(raw_data['type'] == type)])['authors'].isnull().sum()\n",
    "    sums.append(sum)\n",
    "\n",
    "# plot data\n",
    "fig, ax = plt.subplots()\n",
    "plt.xticks(rotation='vertical')\n",
    "\n",
    "ax.set_ylabel('Missing authors sum')\n",
    "ax.set_title('Missing author values by type')\n",
    "\n",
    "ax.bar(types, sums)\n",
    "\n",
    "plt.show()"
   ]
  },
  {
   "cell_type": "code",
   "execution_count": null,
   "metadata": {},
   "outputs": [],
   "source": [
    "import matplotlib.pyplot as plt\n",
    "\n",
    "# get all rows with label 'fake'\n",
    "fake_data = raw_data[(raw_data['type'] == 'fake')]\n",
    "\n",
    "# count rows for 'fake' with no author names \n",
    "fake_auth_isNull_sum = fake_data['authors'].isnull().sum()\n",
    "\n",
    "# get all rows with label 'reliable'\n",
    "reliable_data = raw_data[(raw_data['type'] == 'reliable')]\n",
    "\n",
    "# count rows for 'reliable' with no author names\n",
    "reliable_auth_isNull_sum = reliable_data['authors'].isnull().sum()\n",
    "\n",
    "# plot comparison\n",
    "fig, ax = plt.subplots()\n",
    "\n",
    "ax.set_ylabel('Missing authors sum')\n",
    "ax.set_title('Missing author values: \\'fake\\' vs. \\'reliable\\' news')\n",
    "\n",
    "ax.bar(['fake', 'reliable'], [fake_auth_isNull_sum, reliable_auth_isNull_sum])\n",
    "\n",
    "plt.show()"
   ]
  },
  {
   "cell_type": "markdown",
   "metadata": {},
   "source": [
    "### Correlations between word reduction rates between reliable vs. fake?"
   ]
  },
  {
   "cell_type": "markdown",
   "metadata": {},
   "source": [
    "Exploring if 'fake' have an avarage higher reduction rate then 'reliable'. The results shows the 'fake' has a higher reduction rate then 'reliable'."
   ]
  },
  {
   "cell_type": "code",
   "execution_count": null,
   "metadata": {},
   "outputs": [],
   "source": [
    "import matplotlib.pyplot as plt\n",
    "import pandas as pd\n",
    "import numpy as np\n",
    "\n",
    "# Data is loaded from a new file 'word_freq' to minimize the file-size on the cleaned dataset.\n",
    "# The filesize of 'word_freq' is small.\n",
    "\n",
    "src = 'data/word_freq.csv'\n",
    "word_freq = pd.read_csv(src)\n",
    "\n",
    "# get total mean of exclamation points for each type (labels)\n",
    "types = ['reliable',\n",
    "         'political',\n",
    "         'bias',\n",
    "         'fake',\n",
    "         'conspiracy',\n",
    "         'rumor',\n",
    "         'unknown',\n",
    "         'unreliable',\n",
    "         'clickbait',\n",
    "         'junksci',\n",
    "         'satire',\n",
    "         'hate'\n",
    "         ]\n",
    "\n",
    "stop_means = []\n",
    "stem_means = []\n",
    "for type in types:\n",
    "    stop_mean = (word_freq[ (word_freq['type'] == type)])['stop_reduction_rate'].median()\n",
    "    stem_mean = (word_freq[ (word_freq['type'] == type)])['stem_reduction_rate'].median()\n",
    "    stop_means.append(round(stop_mean, 1))\n",
    "    stem_means.append(round(stem_mean, 1))\n",
    "\n",
    "# plot data\n",
    "fig, ax = plt.subplots(figsize=(8,5))\n",
    "\n",
    "x = np.arange(len(types))\n",
    "width = 0.4  # the width of the bars\n",
    "offset = width/2\n",
    "\n",
    "stop_bar = ax.bar(x-offset, stop_means, width, color='lightsteelblue')\n",
    "ax.bar_label(stop_bar, stop_means, padding=-25, rotation=90)\n",
    "\n",
    "stem_bar = ax.bar(x+offset, stem_means, width, color='orange')\n",
    "ax.bar_label(stem_bar, stem_means, padding=-25, rotation=90)\n",
    "\n",
    "ax.set_ylabel('Median')\n",
    "ax.set_title('Reduction rates')\n",
    "plt.xticks(x, types, rotation='vertical')\n",
    "plt.legend([\"Stopword\", \"Stemming\"])\n",
    "\n",
    "plt.show()\n"
   ]
  },
  {
   "cell_type": "markdown",
   "metadata": {},
   "source": [
    "## Cleaned dataset"
   ]
  },
  {
   "cell_type": "code",
   "execution_count": null,
   "metadata": {},
   "outputs": [],
   "source": [
    "import pandas as pd\n",
    "import seaborn as sns\n",
    "\n",
    "# load cleaned dataset\n",
    "src = 'data/995,000_rows_cleaned.csv'\n",
    "clean_data = pd.read_csv(src, index_col=0)"
   ]
  },
  {
   "cell_type": "markdown",
   "metadata": {},
   "source": [
    "### Empty cells"
   ]
  },
  {
   "cell_type": "code",
   "execution_count": null,
   "metadata": {},
   "outputs": [],
   "source": [
    "# amount of empty cells in dataset\n",
    "sns.heatmap(clean_data.isnull(), cbar=False)\n",
    "clean_data.isnull().sum()"
   ]
  },
  {
   "cell_type": "markdown",
   "metadata": {},
   "source": [
    "### Destribution of types"
   ]
  },
  {
   "cell_type": "code",
   "execution_count": null,
   "metadata": {},
   "outputs": [],
   "source": [
    "# percentage destribution of types\n",
    "type_dist = clean_data['type'].value_counts(normalize=True) * 100\n",
    "print(type_dist)"
   ]
  },
  {
   "cell_type": "markdown",
   "metadata": {},
   "source": [
    "### Count of URLs in fake and reliable articles"
   ]
  },
  {
   "cell_type": "code",
   "execution_count": null,
   "metadata": {},
   "outputs": [],
   "source": [
    "import re\n",
    "\n",
    "# Function to count URLs with <URL> tag\n",
    "def count_urls_with_tag(text):\n",
    "    urls_with_tag = re.findall('_url_', text)\n",
    "    return len(urls_with_tag)\n",
    "\n",
    "# Apply count URLs with <URL> tag\n",
    "clean_data['url_count'] = clean_data['content_clean'].apply(count_urls_with_tag)\n",
    "\n",
    "# print(df[['content_clean', 'url_count_with_tag']])\n",
    "\n",
    "# Total URLs in Content\n",
    "total_urls = clean_data['url_count'].sum()\n",
    "print(\"Total URLs in Content:\", total_urls)\n",
    "\n",
    "# Filter DataFrame for articles labeled as 'fake'\n",
    "fake_articles = clean_data[clean_data['type'] == 'fake']\n",
    "\n",
    "# Total URLs in 'fake' content\n",
    "total_fake_urls = fake_articles['url_count'].sum()\n",
    "print(\"Total URLs in 'fake' content:\", total_fake_urls)\n",
    "\n",
    "# Filter DataFrame for articles labeled as 'reliable'\n",
    "reliable_articles = clean_data[clean_data['type'] == 'reliable']\n",
    "\n",
    "# Total URLs in 'reliable' content\n",
    "total_reliable_urls = reliable_articles['url_count'].sum()\n",
    "print(\"Total URLs in 'reliable' content:\", total_reliable_urls)\n",
    "\n",
    "# Minimum number of URLs in 'fake' content\n",
    "min_fake_urls = fake_articles['url_count'].min()\n",
    "print(\"Minimum number of URLs in 'fake' content:\", min_fake_urls)\n",
    "\n",
    "# Maximum number of URLs in 'fake' content\n",
    "max_fake_urls = fake_articles['url_count'].max()\n",
    "print(\"Maximum number of URLs in 'fake' content:\", max_fake_urls)\n",
    "\n",
    "# Mean number of URLs in 'fake' content\n",
    "mean_fake_urls = fake_articles['url_count'].mean()\n",
    "print(\"Mean number of URLs in 'fake' content:\", mean_fake_urls)\n",
    "\n",
    "# Minimum number of URLs in 'reliable' content\n",
    "min_reliable_urls = reliable_articles['url_count'].min()\n",
    "print(\"Minimum number of URLs in 'reliable' content:\", min_reliable_urls)\n",
    "\n",
    "# Maximum number of URLs in 'reliable' content\n",
    "max_reliable_urls = reliable_articles['url_count'].max()\n",
    "print(\"Maximum number of URLs in 'reliable' content:\", max_reliable_urls)\n",
    "\n",
    "# Mean number of URLs in 'reliable' content\n",
    "mean_reliable_urls = reliable_articles['url_count'].mean()\n",
    "print(\"Mean number of URLs in 'reliable' content:\", mean_reliable_urls)\n"
   ]
  },
  {
   "cell_type": "markdown",
   "metadata": {},
   "source": [
    "### Count of dates in fake and reliable articles"
   ]
  },
  {
   "cell_type": "code",
   "execution_count": null,
   "metadata": {},
   "outputs": [],
   "source": [
    "# Function to count DATEs with <DATE> tag\n",
    "def count_date_with_tag(text):\n",
    "    date_with_tag = re.findall('_date_', text)\n",
    "    return len(date_with_tag)\n",
    "\n",
    "# Apply count DATEs with <DATE> tag\n",
    "clean_data['date_count'] = clean_data['content_clean'].apply(count_date_with_tag)\n",
    "\n",
    "# Total DATEs in Content\n",
    "total_dates = clean_data['date_count'].sum()\n",
    "print(\"Total DATEs in Content:\", total_dates)\n",
    "\n",
    "# Filter DataFrame for articles labeled as 'fake'\n",
    "fake_articles = clean_data[clean_data['type'] == 'fake']\n",
    "\n",
    "# Total DATEs in 'fake' content\n",
    "total_fake_dates = fake_articles['date_count'].sum()\n",
    "print(\"Total DATEs in 'fake' content:\", total_fake_dates)\n",
    "\n",
    "# Filter DataFrame for articles labeled as 'reliable'\n",
    "reliable_articles = clean_data[clean_data['type'] == 'reliable']\n",
    "\n",
    "# Total URLs in 'reliable' content\n",
    "total_reliable_dates = reliable_articles['date_count'].sum()\n",
    "print(\"Total DATEs in 'reliable' content:\", total_reliable_dates)\n",
    "\n",
    "# Minimum number of DATEs in 'fake' content\n",
    "min_fake_dates = fake_articles['date_count'].min()\n",
    "print(\"Minimum number of DATEs in 'fake' content:\", min_fake_dates)\n",
    "\n",
    "# Maximum number of DATEs in 'fake' content\n",
    "max_fake_dates = fake_articles['date_count'].max()\n",
    "print(\"Maximum number of DATEs in 'fake' content:\", max_fake_dates)\n",
    "\n",
    "# Mean number of URLs in 'fake' content\n",
    "mean_fake_dates = fake_articles['date_count'].mean()\n",
    "print(\"Mean number of DATEs in 'fake' content:\", mean_fake_dates)\n",
    "\n",
    "# Minimum number of URLs in 'reliable' content\n",
    "min_reliable_dates = reliable_articles['date_count'].min()\n",
    "print(\"Minimum number of DATEs in 'reliable' content:\", min_reliable_dates)\n",
    "\n",
    "# Maximum number of URLs in 'reliable' content\n",
    "max_reliable_dates = reliable_articles['date_count'].max()\n",
    "print(\"Maximum number of DATEs in 'reliable' content:\", max_reliable_dates)\n",
    "\n",
    "# Mean number of URLs in 'reliable' content\n",
    "mean_reliable_dates = reliable_articles['date_count'].mean()\n",
    "print(\"Mean number of DATEs in 'reliable' content:\", mean_reliable_dates)"
   ]
  },
  {
   "cell_type": "markdown",
   "metadata": {},
   "source": [
    "### Count of NUMs in fake and reliable articles"
   ]
  },
  {
   "cell_type": "code",
   "execution_count": null,
   "metadata": {},
   "outputs": [],
   "source": [
    "\n",
    "# Function to count NUMs with <NUM> tag\n",
    "def count_num_with_tag(text):\n",
    "    num_with_tag = re.findall('_num_', text)\n",
    "    return len(num_with_tag)\n",
    "\n",
    "# Apply count NUms with <NUM> tag\n",
    "clean_data['num_count'] = clean_data['content_clean'].apply(count_num_with_tag)\n",
    "\n",
    "# Total NUMs in Content\n",
    "total_nums = clean_data['num_count'].sum()\n",
    "print(\"Total NUMs in Content:\", total_nums)\n",
    "\n",
    "# Filter DataFrame for articles labeled as 'fake'\n",
    "fake_articles = clean_data[clean_data['type'] == 'fake']\n",
    "\n",
    "# add more type\n",
    "#fake_articles = clean_data[(clean_data['type'] == 'fake') | (clean_data['type'] == '')]\n",
    "\n",
    "# Total NUMs in 'fake' content\n",
    "total_fake_nums = fake_articles['num_count'].sum()\n",
    "print(\"Total NUMs in 'fake' content:\", total_fake_nums)\n",
    "\n",
    "# Filter DataFrame for articles labeled as 'reliable'\n",
    "reliable_articles = clean_data[clean_data['type'] == 'reliable']\n",
    "\n",
    "# Total NUMs in 'reliable' content\n",
    "total_reliable_nums = reliable_articles['num_count'].sum()\n",
    "print(\"Total NUMs in 'reliable' content:\", total_reliable_nums)\n",
    "\n",
    "# Minimum number of NUMs in 'fake' content\n",
    "min_fake_nums = fake_articles['num_count'].min()\n",
    "print(\"Minimum number of NUMs in 'fake' content:\", min_fake_nums)\n",
    "\n",
    "# Maximum number of NUMs in 'fake' content\n",
    "max_fake_nums = fake_articles['num_count'].max()\n",
    "print(\"Maximum number of NUMs in 'fake' content:\", max_fake_nums)\n",
    "\n",
    "# Mean number of NUMs in 'fake' content\n",
    "mean_fake_nums = fake_articles['num_count'].mean()\n",
    "print(\"Mean number of NUMs in 'fake' content:\", mean_fake_nums)\n",
    "\n",
    "# Minimum number of URLs in 'reliable' content\n",
    "min_reliable_nums = reliable_articles['num_count'].min()\n",
    "print(\"Minimum number of NUMs in 'reliable' content:\", min_reliable_nums)\n",
    "\n",
    "# Maximum number of URLs in 'reliable' content\n",
    "max_reliable_nums = reliable_articles['num_count'].max()\n",
    "print(\"Maximum number of NUMs in 'reliable' content:\", max_reliable_nums)\n",
    "\n",
    "# Mean number of URLs in 'reliable' content\n",
    "mean_reliable_nums = reliable_articles['num_count'].mean()\n",
    "print(\"Mean number of NUMs in 'reliable' content:\", mean_reliable_nums)\n"
   ]
  },
  {
   "cell_type": "markdown",
   "metadata": {},
   "source": [
    "### Barplot for 10000 most frequent words, after cleaning"
   ]
  },
  {
   "cell_type": "code",
   "execution_count": null,
   "metadata": {},
   "outputs": [],
   "source": [
    "import matplotlib.pyplot as plt\n",
    "from collections import Counter\n",
    "\n",
    "# Initialize an empty counter to store word frequencies\n",
    "clean_word_freq = Counter()\n",
    "\n",
    "# Iterate over each row of the DataFrame\n",
    "for _, row in clean_data.iterrows():\n",
    "    # Join the clean words in the 'content_clean' column of the current row into a single string\n",
    "    clean_text = ' '.join(re.findall(r'\\b\\w+\\b', row['content_clean']))\n",
    "    \n",
    "    # Count the word frequencies for the current row\n",
    "    clean_word_freq.update(clean_text.split())\n",
    "\n",
    "# Sort the word frequencies in descending order\n",
    "sorted_clean_word_freq = sorted(clean_word_freq.items(), key=lambda x: x[1], reverse=True)\n",
    "\n",
    "# Extract the 100 most frequent words\n",
    "top_100_clean_words = sorted_clean_word_freq[:100]\n",
    "\n",
    "# Print the top 100 most frequent words\n",
    "print(top_100_clean_words)\n",
    "\n",
    "# Extract the 10000 most frequent words\n",
    "top_10000_clean_words = sorted_clean_word_freq[:10000]\n",
    "\n",
    "# Barplot for top 10000 most frequent clean words\n",
    "plt.figure(figsize=(15, 6))\n",
    "words, frequencies = zip(*top_10000_clean_words)\n",
    "plt.bar(words, frequencies)\n",
    "plt.yscale('log')\n",
    "plt.xlabel('Words')\n",
    "plt.ylabel('Frequency')\n",
    "plt.title('Top 10000 Most Frequent Clean Words')\n",
    "plt.xticks([])\n",
    "plt.show()"
   ]
  },
  {
   "cell_type": "markdown",
   "metadata": {},
   "source": [
    "### Barplot for 10000 most frequent words after stemming"
   ]
  },
  {
   "cell_type": "code",
   "execution_count": null,
   "metadata": {},
   "outputs": [],
   "source": [
    "import matplotlib.pyplot as plt\n",
    "from collections import Counter\n",
    "\n",
    "# Initialize an empty counter to store word frequencies\n",
    "clean_word_freq_after = Counter()\n",
    "\n",
    "# Iterate over each row of the DataFrame\n",
    "for _, row in clean_data.iterrows():\n",
    "    # Join the clean words in the 'content_clean' column of the current row into a single string\n",
    "    clean_text_after = ' '.join(re.findall(r'\\b\\w+\\b', row['content_stem']))\n",
    "    \n",
    "    # Count the word frequencies for the current row\n",
    "    clean_word_freq_after.update(clean_text_after.split())\n",
    "\n",
    "# Sort in descending order\n",
    "sorted_clean_word_freq_after = sorted(clean_word_freq_after.items(), key=lambda x: x[1], reverse=True)\n",
    "\n",
    "# Extract the 100 most frequent words\n",
    "top_100_clean_words_after = sorted_clean_word_freq_after[:100]\n",
    "\n",
    "for word, frequency in top_100_clean_words_after:\n",
    "    print(f\"{word}: {frequency}\")\n",
    "\n",
    "# Extract the 10000 most frequent words\n",
    "top_10000_clean_words_after = sorted_clean_word_freq_after[:10000]\n",
    "\n",
    "# Barplot for top 10000 most frequent clean words\n",
    "plt.figure(figsize=(15, 6))\n",
    "words, frequencies = zip(*top_10000_clean_words_after)\n",
    "plt.bar(words, frequencies)\n",
    "plt.yscale('log')\n",
    "plt.xlabel('Words')\n",
    "plt.ylabel('Frequency')\n",
    "plt.title('Top 10000 Most Frequent Clean Words After Preprocessing')\n",
    "plt.xticks([])\n",
    "plt.show()"
   ]
  },
  {
   "cell_type": "markdown",
   "metadata": {},
   "source": [
    "### Amount of ',' (commas) in fake news vs. reliable news"
   ]
  },
  {
   "cell_type": "code",
   "execution_count": null,
   "metadata": {},
   "outputs": [],
   "source": [
    "# Function to count comma \n",
    "def count_comma(text):\n",
    "    return text.count(',')\n",
    "\n",
    "# Apply\n",
    "clean_data['comma_count'] = clean_data['content_clean'].apply(count_comma)\n"
   ]
  },
  {
   "cell_type": "code",
   "execution_count": null,
   "metadata": {},
   "outputs": [],
   "source": [
    "#  Filter DataFrame for articles labeled as 'fake'\n",
    "fake_articles = clean_data[clean_data['type'] == 'fake']\n",
    "\n",
    "# Total commas in 'fake' content\n",
    "total_fake_nums = fake_articles['comma_count'].sum()\n",
    "print(\"Total commas in 'fake' content:\", total_fake_nums)\n",
    "\n",
    "# Filter DataFrame for articles labeled as 'reliable'\n",
    "reliable_articles = clean_data[clean_data['type'] == 'reliable']\n",
    "\n",
    "# Total commas in 'reliable' content\n",
    "total_reliable_nums = reliable_articles['comma_count'].sum()\n",
    "print(\"Total commas in 'reliable' content:\", total_reliable_nums)\n",
    "\n",
    "# Minimum number of commas in 'fake' content\n",
    "min_fake_nums = fake_articles['comma_count'].min()\n",
    "print(\"Minimum number of commas in 'fake' content:\", min_fake_nums)\n",
    "\n",
    "# Maximum number of commas in 'fake' content\n",
    "max_fake_nums = fake_articles['comma_count'].max()\n",
    "print(\"Maximum number of commas in 'fake' content:\", max_fake_nums)\n",
    "\n",
    "# Mean number of commas in 'fake' content\n",
    "mean_fake_nums = fake_articles['comma_count'].mean()\n",
    "print(\"Mean number of commas in 'fake' content:\", mean_fake_nums)\n",
    "\n",
    "# Minimum number of commas in 'reliable' content\n",
    "min_reliable_nums = reliable_articles['comma_count'].min()\n",
    "print(\"Minimum number of commas in 'reliable' content:\", min_reliable_nums)\n",
    "\n",
    "# Maximum number of commas in 'reliable' content\n",
    "max_reliable_nums = reliable_articles['comma_count'].max()\n",
    "print(\"Maximum number of commas in 'reliable' content:\", max_reliable_nums)\n",
    "\n",
    "# Mean number of commas in 'reliable' content\n",
    "mean_reliable_nums = reliable_articles['comma_count'].mean()\n",
    "print(\"Mean number of commas in 'reliable' content:\", mean_reliable_nums)"
   ]
  },
  {
   "cell_type": "code",
   "execution_count": null,
   "metadata": {},
   "outputs": [],
   "source": [
    "import matplotlib.pyplot as plt\n",
    "\n",
    "# get total sum of exclamation points for each type (labels)\n",
    "types = ['reliable',\n",
    "         'political',\n",
    "         'bias',\n",
    "         'fake',\n",
    "         'conspiracy',\n",
    "         'rumor',\n",
    "         'unknown',\n",
    "         'unreliable',\n",
    "         'clickbait',\n",
    "         'junksci',\n",
    "         'satire',\n",
    "         'hate'\n",
    "         ]\n",
    "\n",
    "sums = []\n",
    "for type in types:\n",
    "    sum = (clean_data[ (clean_data['type'] == type)])['comma_count'].median()\n",
    "    sums.append(sum)\n",
    "\n",
    "# plot data\n",
    "fig, ax = plt.subplots()\n",
    "plt.xticks(rotation='vertical')\n",
    "\n",
    "ax.set_ylabel('median')\n",
    "ax.set_title('\\',\\' characters in all article types')\n",
    "\n",
    "ax.bar(types, sums)\n",
    "\n",
    "plt.show()"
   ]
  },
  {
   "cell_type": "markdown",
   "metadata": {},
   "source": [
    "### Length of sentences in reliable news vs. fake news"
   ]
  },
  {
   "cell_type": "code",
   "execution_count": null,
   "metadata": {},
   "outputs": [],
   "source": [
    "import swifter\n",
    "\n",
    "def average_sentence_length(text):\n",
    "    # Split the text into sentences\n",
    "    sentences = text.split('.')\n",
    "    \n",
    "    # Initialize variables to store total length and number of sentences\n",
    "    total_length = 0\n",
    "    num_sentences = 0\n",
    "    \n",
    "    # Iterate through each sentence to calculate total length and count the number of sentences\n",
    "    for sentence in sentences:\n",
    "        # Count the number of words in the sentence\n",
    "        words = sentence.split()\n",
    "        length = len(words)\n",
    "        \n",
    "        # Add the length of the current sentence to the total length\n",
    "        total_length += length\n",
    "        \n",
    "        # Increment the number of sentences\n",
    "        if length > 0:  # Exclude empty sentences\n",
    "            num_sentences += 1\n",
    "    \n",
    "    # Calculate the average length of sentences\n",
    "    if num_sentences > 0:\n",
    "        average_length = total_length / num_sentences\n",
    "    else:\n",
    "        average_length = 0\n",
    "    \n",
    "    return average_length\n",
    "\n",
    "# Apply\n",
    "clean_data['average_sentence_length'] = clean_data['content'].swifter.apply(average_sentence_length)"
   ]
  },
  {
   "cell_type": "code",
   "execution_count": null,
   "metadata": {},
   "outputs": [],
   "source": [
    "# Filter DataFrame for articles labeled as 'fake'\n",
    "fake_articles = clean_data[clean_data['type'] == 'fake']\n",
    "\n",
    "# Filter DataFrame for articles labeled as 'reliable'\n",
    "reliable_articles = clean_data[clean_data['type'] == 'reliable']\n",
    "\n",
    "# Minimum number in 'fake' content\n",
    "min_fake_nums = fake_articles['average_sentence_length'].min()\n",
    "print(\"Minimum average length in 'fake' content:\", min_fake_nums)\n",
    "\n",
    "# Maximum number in 'fake' content\n",
    "max_fake_nums = fake_articles['average_sentence_length'].max()\n",
    "print(\"Maximum average length in 'fake' content:\", max_fake_nums)\n",
    "\n",
    "# Mean number in 'fake' content\n",
    "mean_fake_nums = fake_articles['average_sentence_length'].mean()\n",
    "print(\"Mean average length in 'fake' content:\", mean_fake_nums)\n",
    "\n",
    "# Minimum number in 'reliable' content\n",
    "min_reliable_nums = reliable_articles['average_sentence_length'].min()\n",
    "print(\"Minimum average length in 'reliable' content:\", min_reliable_nums)\n",
    "\n",
    "# Maximum number in 'reliable' content\n",
    "max_reliable_nums = reliable_articles['average_sentence_length'].max()\n",
    "print(\"Maximum average length in 'reliable' content:\", max_reliable_nums)\n",
    "\n",
    "# Mean number of in 'reliable' content\n",
    "mean_reliable_nums = reliable_articles['average_sentence_length'].mean()\n",
    "print(\"Mean average length in 'reliable' content:\", mean_reliable_nums)"
   ]
  },
  {
   "cell_type": "code",
   "execution_count": null,
   "metadata": {},
   "outputs": [],
   "source": [
    "reliable_articles['average_sentence_length'].median()"
   ]
  },
  {
   "cell_type": "code",
   "execution_count": null,
   "metadata": {},
   "outputs": [],
   "source": [
    "import matplotlib.pyplot as plt\n",
    "\n",
    "# get total sum of exclamation points for each type (labels)\n",
    "types = ['reliable',\n",
    "         'political',\n",
    "         'bias',\n",
    "         'fake',\n",
    "         'conspiracy',\n",
    "         'rumor',\n",
    "         'unknown',\n",
    "         'unreliable',\n",
    "         'clickbait',\n",
    "         'junksci',\n",
    "         'satire',\n",
    "         'hate'\n",
    "         ]\n",
    "\n",
    "sums = []\n",
    "for type in types:\n",
    "    sum = (clean_data[ (clean_data['type'] == type)])['average_sentence_length'].median()\n",
    "    sums.append(sum)\n",
    "\n",
    "# plot data\n",
    "fig, ax = plt.subplots()\n",
    "plt.xticks(rotation='vertical')\n",
    "\n",
    "ax.set_ylabel('median')\n",
    "ax.set_title('Avarage sentence length')\n",
    "\n",
    "ax.bar(types, sums)\n",
    "\n",
    "plt.show()"
   ]
  },
  {
   "cell_type": "markdown",
   "metadata": {},
   "source": [
    "### Do Fake news have less titles then reliable news? "
   ]
  },
  {
   "cell_type": "code",
   "execution_count": null,
   "metadata": {},
   "outputs": [],
   "source": [
    "title_counts = clean_data.groupby('type')['title'].apply(lambda x: x.notnull().mean())\n",
    "print(title_counts)"
   ]
  },
  {
   "cell_type": "markdown",
   "metadata": {},
   "source": [
    "### Compare FakeNews datasets and LIAR test dataset"
   ]
  },
  {
   "cell_type": "code",
   "execution_count": null,
   "metadata": {},
   "outputs": [],
   "source": [
    "import pandas as pd\n",
    "\n",
    "\n",
    "# Load datasets\n",
    "\n",
    "src = 'data/training_data_features.csv'\n",
    "training_data = pd.read_csv(src)\n",
    "\n",
    "src_validation = 'data/validation_data_features.csv'\n",
    "validation_data = pd.read_csv(src_validation)\n",
    "\n",
    "src_test = \"data/test_data_features.csv\"\n",
    "test_data_fake_news = pd.read_csv(src_test)\n",
    "\n",
    "src_test = \"data/liar_dataset/test_features.csv\"\n",
    "test_data_liar = pd.read_csv(src_test)"
   ]
  },
  {
   "cell_type": "code",
   "execution_count": null,
   "metadata": {},
   "outputs": [],
   "source": [
    "import swifter\n",
    "\n",
    "# Function to count words in 'content'\n",
    "\n",
    "def word_count(text):\n",
    "\n",
    "    words = text.split() \n",
    "    \n",
    "    return len(words)\n",
    "\n",
    "training_data['word_count'] = training_data['content'].swifter.apply(word_count)\n",
    "test_data_fake_news['word_count'] = test_data_fake_news['content'].swifter.apply(word_count)\n",
    "test_data_liar['word_count'] = test_data_liar['content'].swifter.apply(word_count)\n",
    "validation_data['word_count'] = validation_data['content'].swifter.apply(word_count)"
   ]
  },
  {
   "cell_type": "code",
   "execution_count": null,
   "metadata": {},
   "outputs": [],
   "source": [
    "import matplotlib.pyplot as plt\n",
    "\n",
    "# Median word counts\n",
    "training_median = training_data['word_count'].median()\n",
    "validation_median = validation_data['word_count'].median()\n",
    "test_median_fake_news = test_data_fake_news['word_count'].median()\n",
    "test_median_liar = test_data_liar['word_count'].median()\n",
    "\n",
    "# Plotting\n",
    "plt.figure(figsize=(5, 1))\n",
    "bars = plt.barh(['Training - FakeNews', 'Validation - FakeNews', 'Test - FakeNews' , 'Test - LIAR'], [training_median, validation_median, test_median_fake_news, test_median_liar])\n",
    "plt.title('Median Word Count')\n",
    "plt.show()"
   ]
  }
 ],
 "metadata": {
  "kernelspec": {
   "display_name": "fake-news-proj",
   "language": "python",
   "name": "python3"
  },
  "language_info": {
   "codemirror_mode": {
    "name": "ipython",
    "version": 3
   },
   "file_extension": ".py",
   "mimetype": "text/x-python",
   "name": "python",
   "nbconvert_exporter": "python",
   "pygments_lexer": "ipython3",
   "version": "3.11.8"
  }
 },
 "nbformat": 4,
 "nbformat_minor": 2
}
