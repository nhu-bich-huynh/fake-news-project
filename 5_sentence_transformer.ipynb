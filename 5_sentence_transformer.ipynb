{
 "cells": [
  {
   "cell_type": "code",
   "execution_count": null,
   "metadata": {},
   "outputs": [],
   "source": [
    "# REF: https://huggingface.co/blog/getting-started-with-embeddings\n",
    "# REF: https://www.sbert.net/"
   ]
  },
  {
   "cell_type": "code",
   "execution_count": null,
   "metadata": {},
   "outputs": [],
   "source": [
    "import pandas as pd\n",
    "\n",
    "# load grouped data\n",
    "src_train = 'data/training_data_grouped.csv'\n",
    "training_data_raw = pd.read_csv(src_train)\n",
    "\n",
    "src_val = 'data/validation_data_grouped.csv'\n",
    "validation_data_raw = pd.read_csv(src_val)\n",
    "\n",
    "src_test = 'data/test_data_grouped.csv'\n",
    "test_data_raw = pd.read_csv(src_test)\n",
    "\n",
    "src_liar = 'data/liar_dataset/test_features.csv'\n",
    "liar_data_raw = pd.read_csv(src_liar)\n",
    "\n",
    "# get texts\n",
    "type = 'content_clean'\n",
    "txt_train = training_data_raw[type]\n",
    "txt_val = validation_data_raw[type]\n",
    "txt_test = test_data_raw[type]\n",
    "txt_liar = liar_data_raw[type]"
   ]
  },
  {
   "cell_type": "code",
   "execution_count": null,
   "metadata": {},
   "outputs": [],
   "source": [
    "from sentence_transformers import SentenceTransformer\n",
    "\n",
    "# load transformer model\n",
    "# see models: https://www.sbert.net/docs/pretrained_models.html#model-overview\n",
    "model = SentenceTransformer(\"all-MiniLM-L12-v2\")"
   ]
  },
  {
   "cell_type": "code",
   "execution_count": null,
   "metadata": {},
   "outputs": [],
   "source": [
    "# get encoded output from transformer\n",
    "# TIME: about 22min on M1 MacBook Pro\n",
    "train_encodings = model.encode(txt_train)\n",
    "val_encodings = model.encode(txt_val)\n",
    "test_encodings = model.encode(txt_test)\n",
    "liar_encodings = model.encode(txt_liar)"
   ]
  },
  {
   "cell_type": "code",
   "execution_count": null,
   "metadata": {},
   "outputs": [],
   "source": [
    "# write to csv file\n",
    "dst = 'data/training_data_embeddings.csv'\n",
    "embeddings = pd.DataFrame(train_encodings)\n",
    "embeddings.to_csv(dst, index=False)\n",
    "\n",
    "dst = 'data/validation_data_embeddings.csv'\n",
    "embeddings = pd.DataFrame(val_encodings)\n",
    "embeddings.to_csv(dst, index=False)\n",
    "\n",
    "dst = 'data/test_data_embeddings.csv'\n",
    "embeddings = pd.DataFrame(test_encodings)\n",
    "embeddings.to_csv(dst, index=False)\n",
    "\n",
    "dst = 'data/liar_dataset/test_embeddings.csv'\n",
    "embeddings = pd.DataFrame(liar_encodings)\n",
    "embeddings.to_csv(dst, index=False)"
   ]
  }
 ],
 "metadata": {
  "kernelspec": {
   "display_name": "fake-news-proj",
   "language": "python",
   "name": "python3"
  },
  "language_info": {
   "codemirror_mode": {
    "name": "ipython",
    "version": 3
   },
   "file_extension": ".py",
   "mimetype": "text/x-python",
   "name": "python",
   "nbconvert_exporter": "python",
   "pygments_lexer": "ipython3",
   "version": "3.12.1"
  }
 },
 "nbformat": 4,
 "nbformat_minor": 2
}
