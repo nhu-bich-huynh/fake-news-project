{
 "cells": [
  {
   "cell_type": "markdown",
   "metadata": {},
   "source": [
    "# Logistic Regression "
   ]
  },
  {
   "cell_type": "code",
   "execution_count": null,
   "metadata": {},
   "outputs": [],
   "source": [
    "import pandas as pd\n",
    "\n",
    "# load raw dataset\n",
    "src = 'data/training_data_features.csv'\n",
    "training_data = pd.read_csv(src)\n",
    "\n",
    "# load grouped validation data\n",
    "src_validation = 'data/validation_data_features.csv'\n",
    "validation_data = pd.read_csv(src_validation)\n",
    "\n",
    "src_test = \"data/test_data_features.csv\"\n",
    "test_data = pd.read_csv(src_test)"
   ]
  },
  {
   "cell_type": "markdown",
   "metadata": {},
   "source": [
    "### Logistic Regression with TF-IDF"
   ]
  },
  {
   "cell_type": "code",
   "execution_count": null,
   "metadata": {},
   "outputs": [],
   "source": [
    "from sklearn.feature_extraction.text import TfidfVectorizer\n",
    "from sklearn.linear_model import LogisticRegression\n",
    "from sklearn.metrics import classification_report\n",
    "import pandas as pd\n",
    "\n",
    "# TF-IDF Vectorization\n",
    "tfidf_vectorizer = TfidfVectorizer()\n",
    "\n",
    "tfidf_training_matrix = tfidf_vectorizer.fit_transform(training_data['content_stem'])\n",
    "tfidf_validation_matrix = tfidf_vectorizer.transform(validation_data['content_stem'])\n",
    "\n",
    "# Target labels\n",
    "y_training_data = training_data['reliable']\n",
    "y_validation_data = validation_data['reliable']\n",
    "\n",
    "# Initialize and train Logistic Regression model\n",
    "logistic_model = LogisticRegression(random_state=42)\n",
    "logistic_model.fit(tfidf_training_matrix, y_training_data)\n",
    "\n",
    "# Predict on validation set\n",
    "predictions = logistic_model.predict(tfidf_validation_matrix)\n",
    "\n",
    "# Evaluate the model\n",
    "print(\"LOGISTIC REGRESSION w/ TF-IDF\")\n",
    "print(classification_report(y_validation_data, predictions))"
   ]
  },
  {
   "cell_type": "markdown",
   "metadata": {},
   "source": [
    "##### Test on Fake News"
   ]
  },
  {
   "cell_type": "code",
   "execution_count": null,
   "metadata": {},
   "outputs": [],
   "source": [
    "from sklearn.metrics import classification_report\n",
    "\n",
    "# Transform test data using the loaded TF-IDF vectorizer\n",
    "tfidf_test_matrix = tfidf_vectorizer.transform(test_data['content_stem'])\n",
    "\n",
    "# Target labels for test data\n",
    "y_test_data = test_data['reliable']\n",
    "\n",
    "# Predict on test data\n",
    "test_predictions = logistic_model.predict(tfidf_test_matrix)\n",
    "\n",
    "# Evaluate the model on test data\n",
    "print(\"LOGISTIC REGRESSION w/ TF-IDF on Fake News\")\n",
    "print(classification_report(y_test_data, test_predictions))"
   ]
  },
  {
   "cell_type": "code",
   "execution_count": null,
   "metadata": {},
   "outputs": [],
   "source": [
    "import matplotlib.pyplot as plt\n",
    "from sklearn.metrics import confusion_matrix, ConfusionMatrixDisplay\n",
    "\n",
    "# Calculate confusion matrix\n",
    "conf_matrix = confusion_matrix(y_test_data, test_predictions)\n",
    "\n",
    "# Plot confusion matrix\n",
    "disp = ConfusionMatrixDisplay(confusion_matrix=conf_matrix, display_labels=['false', 'true'])\n",
    "disp.plot(values_format='')\n",
    "plt.title('LOGISTIC REGRESSION w/ TF-IDF on Fake News')\n",
    "plt.show()"
   ]
  },
  {
   "cell_type": "markdown",
   "metadata": {},
   "source": [
    "##### Test on LIAR"
   ]
  },
  {
   "cell_type": "code",
   "execution_count": null,
   "metadata": {},
   "outputs": [],
   "source": [
    "src_test = \"data/liar_dataset/test_features.csv\"\n",
    "test_data = pd.read_csv(src_test)\n",
    "\n",
    "# Transform test data using the loaded TF-IDF vectorizer\n",
    "tfidf_test_matrix = tfidf_vectorizer.transform(test_data['content_stem'])\n",
    "\n",
    "# Target labels for test data\n",
    "y_test_data = test_data['reliable']\n",
    "\n",
    "# Predict on test data\n",
    "test_predictions = logistic_model.predict(tfidf_test_matrix)\n",
    "\n",
    "# Evaluate the model on test data\n",
    "print(\"LOGISTIC REGRESSION w/ TF-IDF on LIAR\")\n",
    "print(classification_report(y_test_data, test_predictions))"
   ]
  },
  {
   "cell_type": "code",
   "execution_count": null,
   "metadata": {},
   "outputs": [],
   "source": [
    "# Calculate confusion matrix\n",
    "conf_matrix = confusion_matrix(y_test_data, test_predictions)\n",
    "\n",
    "# Plot confusion matrix\n",
    "disp = ConfusionMatrixDisplay(confusion_matrix=conf_matrix, display_labels=['false', 'true'])\n",
    "disp.plot()\n",
    "plt.title('LOGISTIC REGRESSION w/ TF-IDF on LIAR')\n",
    "plt.show()"
   ]
  },
  {
   "cell_type": "markdown",
   "metadata": {},
   "source": [
    "### Logistic Regression with Sentence Transformer"
   ]
  },
  {
   "cell_type": "code",
   "execution_count": null,
   "metadata": {},
   "outputs": [],
   "source": [
    "import pandas as pd\n",
    "\n",
    "# load data\n",
    "# training data\n",
    "src = 'data/training_data_embeddings.csv'\n",
    "training_embeddings = pd.read_csv(src)\n",
    "\n",
    "src = 'data/training_data_features.csv'\n",
    "training_data = pd.read_csv(src)\n",
    "\n",
    "# validation data\n",
    "src = 'data/validation_data_embeddings.csv'\n",
    "validation_embeddings = pd.read_csv(src)\n",
    "\n",
    "src = 'data/validation_data_features.csv'\n",
    "validation_data = pd.read_csv(src)\n",
    "\n",
    "# test data\n",
    "src = 'data/test_data_features.csv'\n",
    "test_data = pd.read_csv(src)\n",
    "\n",
    "src = 'data/test_data_embeddings.csv'\n",
    "test_embeddings = pd.read_csv(src)"
   ]
  },
  {
   "cell_type": "code",
   "execution_count": null,
   "metadata": {},
   "outputs": [],
   "source": [
    "from sklearn.linear_model import LogisticRegression\n",
    "from sklearn.metrics import classification_report\n",
    "\n",
    "X_train = training_embeddings\n",
    "Y_train = training_data['reliable']\n",
    "\n",
    "X_val = validation_embeddings\n",
    "Y_val = validation_data['reliable']\n",
    "\n",
    "# create logistic reg. model, and train it\n",
    "model = LogisticRegression(random_state=42)\n",
    "model.fit(X_train, Y_train)\n",
    "\n",
    "# test the model and report performance\n",
    "predictions = model.predict(X_val)\n",
    "print('LOGISTIC REGRESSION w/ TRANSFORMER')\n",
    "print(classification_report(Y_val, predictions))"
   ]
  },
  {
   "cell_type": "markdown",
   "metadata": {},
   "source": [
    "##### Test on Fake News"
   ]
  },
  {
   "cell_type": "code",
   "execution_count": null,
   "metadata": {},
   "outputs": [],
   "source": [
    "X_test = test_embeddings\n",
    "Y_test = test_data['reliable']\n",
    "\n",
    "# test the model and report performance\n",
    "log_predictions = model.predict(X_test)\n",
    "print('LOGISTIC REGRESSION w/ TRANSFORMER on Fake News')\n",
    "print(classification_report(Y_test, log_predictions))"
   ]
  },
  {
   "cell_type": "code",
   "execution_count": null,
   "metadata": {},
   "outputs": [],
   "source": [
    "import matplotlib.pyplot as plt\n",
    "from sklearn.metrics import confusion_matrix, ConfusionMatrixDisplay\n",
    "\n",
    "# Calculate confusion matrix\n",
    "conf_matrix = confusion_matrix(Y_test, log_predictions)\n",
    "\n",
    "# Plot confusion matrix\n",
    "disp = ConfusionMatrixDisplay(confusion_matrix=conf_matrix, display_labels=['false', 'true'])\n",
    "disp.plot()\n",
    "plt.title('LOGISTIC REGRESSION w/ TRANSFORMER on Fake News')\n",
    "plt.show()"
   ]
  },
  {
   "cell_type": "markdown",
   "metadata": {},
   "source": [
    "##### Test on LIAR"
   ]
  },
  {
   "cell_type": "code",
   "execution_count": null,
   "metadata": {},
   "outputs": [],
   "source": [
    "src = 'data/liar_dataset/test_features.csv'\n",
    "test_data = pd.read_csv(src)\n",
    "\n",
    "src = 'data/liar_dataset/test_embeddings.csv'\n",
    "test_embeddings = pd.read_csv(src)\n",
    "\n",
    "X_test = test_embeddings\n",
    "Y_test = test_data['reliable']\n",
    "\n",
    "# test the model and report performance\n",
    "log_predictions = model.predict(X_test)\n",
    "print('LOGISTIC REGRESSION w/ TRANSFORMER on LIAR')\n",
    "print(classification_report(Y_test, log_predictions))"
   ]
  },
  {
   "cell_type": "code",
   "execution_count": null,
   "metadata": {},
   "outputs": [],
   "source": [
    "import matplotlib.pyplot as plt\n",
    "from sklearn.metrics import confusion_matrix, ConfusionMatrixDisplay\n",
    "\n",
    "# Calculate confusion matrix\n",
    "conf_matrix = confusion_matrix(Y_test, log_predictions)\n",
    "\n",
    "# Plot confusion matrix\n",
    "disp = ConfusionMatrixDisplay(confusion_matrix=conf_matrix, display_labels=['false', 'true'])\n",
    "disp.plot()\n",
    "plt.title('LOGISTIC REGRESSION w/ TRANSFORMER on LIAR')\n",
    "plt.show()"
   ]
  }
 ],
 "metadata": {
  "kernelspec": {
   "display_name": "base",
   "language": "python",
   "name": "python3"
  },
  "language_info": {
   "codemirror_mode": {
    "name": "ipython",
    "version": 3
   },
   "file_extension": ".py",
   "mimetype": "text/x-python",
   "name": "python",
   "nbconvert_exporter": "python",
   "pygments_lexer": "ipython3",
   "version": "3.12.1"
  }
 },
 "nbformat": 4,
 "nbformat_minor": 2
}
